{
  "cells": [
    {
      "cell_type": "code",
      "execution_count": 2,
      "metadata": {
        "colab": {
          "base_uri": "https://localhost:8080/"
        },
        "id": "0IlYvnnXYIrt",
        "outputId": "01cfeedb-2694-4d5c-d8a6-6540677ae37b"
      },
      "outputs": [
        {
          "ename": "ModuleNotFoundError",
          "evalue": "No module named 'mastml'",
          "output_type": "error",
          "traceback": [
            "\u001b[0;31m---------------------------------------------------------------------------\u001b[0m",
            "\u001b[0;31mModuleNotFoundError\u001b[0m                       Traceback (most recent call last)",
            "Cell \u001b[0;32mIn[2], line 1\u001b[0m\n\u001b[0;32m----> 1\u001b[0m \u001b[39mfrom\u001b[39;00m \u001b[39mmastml\u001b[39;00m\u001b[39m.\u001b[39;00m\u001b[39mmastml\u001b[39;00m \u001b[39mimport\u001b[39;00m Mastml\n\u001b[1;32m      3\u001b[0m \u001b[39mfrom\u001b[39;00m \u001b[39mmastml\u001b[39;00m\u001b[39m.\u001b[39;00m\u001b[39mdatasets\u001b[39;00m \u001b[39mimport\u001b[39;00m SklearnDatasets\n\u001b[1;32m      4\u001b[0m \u001b[39mfrom\u001b[39;00m \u001b[39mmastml\u001b[39;00m\u001b[39m.\u001b[39;00m\u001b[39mdatasets\u001b[39;00m \u001b[39mimport\u001b[39;00m LocalDatasets\n",
            "\u001b[0;31mModuleNotFoundError\u001b[0m: No module named 'mastml'"
          ]
        }
      ],
      "source": [
        "#MUST BE RUN ON PYTHON 3.7!\n",
        "\n",
        "from mastml.mastml import Mastml\n",
        "\n",
        "from mastml.datasets import SklearnDatasets\n",
        "from mastml.datasets import LocalDatasets\n",
        "from mastml.datasets import MatminerDatasets\n",
        "from mastml.datasets import FigshareDatasets\n",
        "from mastml.datasets import FoundryDatasets\n",
        "from mastml.data_cleaning import DataCleaning\n",
        "import numpy as np\n",
        "import pandas as pd\n",
        "from copy import copy\n",
        "import mastml\n",
        "import os \n",
        "from mastml.feature_selectors import SklearnFeatureSelector, EnsembleModelFeatureSelector\n",
        "from mastml.feature_generators import ElementalFeatureGenerator, OneHotGroupGenerator\n",
        "from mastml.learning_curve import LearningCurve\n",
        "from mastml.models import SklearnModel, EnsembleModel\n",
        "from mastml.preprocessing import SklearnPreprocessor\n",
        "from mastml.data_splitters import SklearnDataSplitter, NoSplit, LeaveOutPercent\n",
        "from mastml.hyper_opt import GridSearch, RandomizedSearch, BayesianSearch\n",
        "import pymatgen as pmg"
      ]
    },
    {
      "cell_type": "code",
      "execution_count": 2,
      "metadata": {
        "id": "btQatehvYWtO"
      },
      "outputs": [],
      "source": [
        "SAVEPATH = 'MastML/MastML'\n",
        "\n",
        "mastml = Mastml(savepath=SAVEPATH)\n",
        "savepath = mastml.get_savepath"
      ]
    },
    {
      "cell_type": "code",
      "execution_count": 3,
      "metadata": {
        "id": "kCM8YWPuY5-P"
      },
      "outputs": [],
      "source": [
        "target = 'Ctemp'\n",
        "\n",
        "extra_columns = ['Composition']"
      ]
    },
    {
      "cell_type": "code",
      "execution_count": 4,
      "metadata": {
        "colab": {
          "base_uri": "https://localhost:8080/"
        },
        "id": "KPoLJ7vjZAH0",
        "outputId": "72e17901-9330-48a6-8992-3cbb1ad8f6a3"
      },
      "outputs": [
        {
          "name": "stdout",
          "output_type": "stream",
          "text": [
            "WARNING: feature_names not specified but target was specified. Assuming all columns except target and extra columns are features\n"
          ]
        }
      ],
      "source": [
        "d = LocalDatasets(file_path= \"Data/DS1-Compounds.csv\",\n",
        "                  target=target, \n",
        "                  extra_columns=extra_columns, \n",
        "                  group_column='Composition',\n",
        "                  testdata_columns=None,\n",
        "                  as_frame=True)\n",
        "\n",
        "data_dict = d.load_data()\n",
        "\n",
        "X = data_dict['X']\n",
        "y = data_dict['y']\n",
        "X_extra = data_dict['X_extra']\n",
        "groups = data_dict['groups']"
      ]
    },
    {
      "cell_type": "code",
      "execution_count": 5,
      "metadata": {
        "id": "FRcy0ieXZ0Qq"
      },
      "outputs": [],
      "source": [
        "X1 = X2 = X3 = X4 = X5 = copy(X)"
      ]
    },
    {
      "cell_type": "code",
      "execution_count": 6,
      "metadata": {
        "colab": {
          "base_uri": "https://localhost:8080/"
        },
        "id": "HSE6XceqZ-vx",
        "outputId": "fa1aca6e-615c-4a69-e2cb-2a9ec26bfa87"
      },
      "outputs": [
        {
          "name": "stdout",
          "output_type": "stream",
          "text": [
            "Dropping 5/440 generated columns due to missing values\n"
          ]
        }
      ],
      "source": [
        "X, y = ElementalFeatureGenerator(composition_df=X_extra['Composition'], \n",
        "                                 feature_types=['composition_avg', 'arithmetic_avg', 'max', 'min', 'difference'], \n",
        "                                 remove_constant_columns=True).evaluate(X=X, y=y, savepath=savepath, make_new_dir=True)"
      ]
    },
    {
      "cell_type": "code",
      "execution_count": null,
      "metadata": {
        "id": "ZEvxEPLda1aK"
      },
      "outputs": [],
      "source": [
        "X, y = OneHotGroupGenerator(groups=X_extra['Composition']).evaluate(X=X, y=y, savepath=savepath, make_new_dir=True)"
      ]
    },
    {
      "cell_type": "code",
      "execution_count": null,
      "metadata": {
        "id": "TRSt3qnea-6Y"
      },
      "outputs": [],
      "source": [
        "preprocessor = SklearnPreprocessor(preprocessor='StandardScaler', as_frame=True)"
      ]
    },
    {
      "cell_type": "code",
      "execution_count": null,
      "metadata": {
        "id": "ZfR4biTsbCWx"
      },
      "outputs": [],
      "source": [
        "X = preprocessor.evaluate(X=X, y=y, savepath=savepath, make_new_dir=True)\n",
        "Xcopy = copy(X) # Reserve this copy of the full dataset for later"
      ]
    },
    {
      "cell_type": "code",
      "execution_count": null,
      "metadata": {
        "id": "UQoIEaQkbOXH"
      },
      "outputs": [],
      "source": [
        "model = SklearnModel(model='RandomForestRegressor')\n",
        "selector = EnsembleModelFeatureSelector(model=model, \n",
        "                                        n_features_to_select=20)\n",
        "X = selector.evaluate(X=X, y=y, savepath=savepath, make_new_dir=True)"
      ]
    },
    {
      "cell_type": "code",
      "execution_count": null,
      "metadata": {
        "colab": {
          "base_uri": "https://localhost:8080/",
          "height": 1000
        },
        "id": "zvJ5UqE8bbmD",
        "outputId": "e86914e2-75fd-408e-adfd-e5161acfde48"
      },
      "outputs": [
        {
          "data": {
            "text/html": [
              "<div>\n",
              "<style scoped>\n",
              "    .dataframe tbody tr th:only-of-type {\n",
              "        vertical-align: middle;\n",
              "    }\n",
              "\n",
              "    .dataframe tbody tr th {\n",
              "        vertical-align: top;\n",
              "    }\n",
              "\n",
              "    .dataframe thead th {\n",
              "        text-align: right;\n",
              "    }\n",
              "</style>\n",
              "<table border=\"1\" class=\"dataframe\">\n",
              "  <thead>\n",
              "    <tr style=\"text-align: right;\">\n",
              "      <th></th>\n",
              "      <th>HeatFusion_composition_average</th>\n",
              "      <th>GSmagmom_composition_average</th>\n",
              "      <th>ElasticModulus_composition_average</th>\n",
              "      <th>n_ws^third_composition_average</th>\n",
              "      <th>AtomicVolume_composition_average</th>\n",
              "      <th>BCCmagmom_composition_average</th>\n",
              "      <th>MeltingT_arithmetic_average</th>\n",
              "      <th>CovalentRadius_composition_average</th>\n",
              "      <th>CovalentRadii_composition_average</th>\n",
              "      <th>GSenergy_pa_arithmetic_average</th>\n",
              "      <th>groups</th>\n",
              "    </tr>\n",
              "  </thead>\n",
              "  <tbody>\n",
              "    <tr>\n",
              "      <th>0</th>\n",
              "      <td>0.062372</td>\n",
              "      <td>-0.292148</td>\n",
              "      <td>1.067695</td>\n",
              "      <td>0.624249</td>\n",
              "      <td>-0.687965</td>\n",
              "      <td>-0.376795</td>\n",
              "      <td>0.713109</td>\n",
              "      <td>-0.506542</td>\n",
              "      <td>-0.732983</td>\n",
              "      <td>-0.430734</td>\n",
              "      <td>[Element Zr, Element Ti, Element Be, Element C...</td>\n",
              "    </tr>\n",
              "    <tr>\n",
              "      <th>1</th>\n",
              "      <td>0.083469</td>\n",
              "      <td>-0.292153</td>\n",
              "      <td>1.256598</td>\n",
              "      <td>0.649470</td>\n",
              "      <td>-0.662435</td>\n",
              "      <td>-0.376795</td>\n",
              "      <td>0.713109</td>\n",
              "      <td>-0.569760</td>\n",
              "      <td>-0.792458</td>\n",
              "      <td>-0.430734</td>\n",
              "      <td>[Element Zr, Element Ti, Element Be, Element C...</td>\n",
              "    </tr>\n",
              "    <tr>\n",
              "      <th>2</th>\n",
              "      <td>0.068809</td>\n",
              "      <td>-0.323694</td>\n",
              "      <td>1.181025</td>\n",
              "      <td>0.615602</td>\n",
              "      <td>-0.665584</td>\n",
              "      <td>-0.380165</td>\n",
              "      <td>0.713109</td>\n",
              "      <td>-0.545518</td>\n",
              "      <td>-0.773703</td>\n",
              "      <td>-0.430734</td>\n",
              "      <td>[Element Zr, Element Ti, Element Be, Element C...</td>\n",
              "    </tr>\n",
              "    <tr>\n",
              "      <th>3</th>\n",
              "      <td>0.267366</td>\n",
              "      <td>-0.292160</td>\n",
              "      <td>0.483118</td>\n",
              "      <td>0.336694</td>\n",
              "      <td>-0.436257</td>\n",
              "      <td>-0.376795</td>\n",
              "      <td>0.004676</td>\n",
              "      <td>-0.268842</td>\n",
              "      <td>-0.346026</td>\n",
              "      <td>0.230114</td>\n",
              "      <td>[Element Zr, Element Be, Element Al, Element C...</td>\n",
              "    </tr>\n",
              "    <tr>\n",
              "      <th>4</th>\n",
              "      <td>0.203736</td>\n",
              "      <td>-0.292160</td>\n",
              "      <td>0.606394</td>\n",
              "      <td>0.381303</td>\n",
              "      <td>-0.506860</td>\n",
              "      <td>-0.376795</td>\n",
              "      <td>0.004676</td>\n",
              "      <td>-0.402021</td>\n",
              "      <td>-0.481757</td>\n",
              "      <td>0.230114</td>\n",
              "      <td>[Element Zr, Element Be, Element Al, Element C...</td>\n",
              "    </tr>\n",
              "    <tr>\n",
              "      <th>...</th>\n",
              "      <td>...</td>\n",
              "      <td>...</td>\n",
              "      <td>...</td>\n",
              "      <td>...</td>\n",
              "      <td>...</td>\n",
              "      <td>...</td>\n",
              "      <td>...</td>\n",
              "      <td>...</td>\n",
              "      <td>...</td>\n",
              "      <td>...</td>\n",
              "      <td>...</td>\n",
              "    </tr>\n",
              "    <tr>\n",
              "      <th>384</th>\n",
              "      <td>0.299513</td>\n",
              "      <td>-0.517462</td>\n",
              "      <td>-0.135403</td>\n",
              "      <td>0.024432</td>\n",
              "      <td>-0.481902</td>\n",
              "      <td>-0.400867</td>\n",
              "      <td>-0.235684</td>\n",
              "      <td>0.002575</td>\n",
              "      <td>-0.123427</td>\n",
              "      <td>0.009275</td>\n",
              "      <td>[Element Zr, Element Al, Element Cu]</td>\n",
              "    </tr>\n",
              "    <tr>\n",
              "      <th>385</th>\n",
              "      <td>1.974500</td>\n",
              "      <td>1.172306</td>\n",
              "      <td>3.115498</td>\n",
              "      <td>2.028397</td>\n",
              "      <td>-1.685062</td>\n",
              "      <td>-0.220323</td>\n",
              "      <td>1.339063</td>\n",
              "      <td>-2.427701</td>\n",
              "      <td>-2.236884</td>\n",
              "      <td>-0.449051</td>\n",
              "      <td>[Element Si, Element Ni, Element B]</td>\n",
              "    </tr>\n",
              "    <tr>\n",
              "      <th>386</th>\n",
              "      <td>0.549614</td>\n",
              "      <td>-0.472402</td>\n",
              "      <td>-0.541022</td>\n",
              "      <td>-0.119002</td>\n",
              "      <td>-0.535399</td>\n",
              "      <td>-0.396053</td>\n",
              "      <td>-0.651283</td>\n",
              "      <td>-2.197418</td>\n",
              "      <td>-1.469386</td>\n",
              "      <td>0.378830</td>\n",
              "      <td>[Element Ce, Element Al, Element Si, Element Ni]</td>\n",
              "    </tr>\n",
              "    <tr>\n",
              "      <th>387</th>\n",
              "      <td>0.610257</td>\n",
              "      <td>-0.359750</td>\n",
              "      <td>-0.382074</td>\n",
              "      <td>-0.002333</td>\n",
              "      <td>-0.571093</td>\n",
              "      <td>-0.384016</td>\n",
              "      <td>-0.651283</td>\n",
              "      <td>-2.159318</td>\n",
              "      <td>-1.460996</td>\n",
              "      <td>0.378830</td>\n",
              "      <td>[Element Ce, Element Al, Element Si, Element Ni]</td>\n",
              "    </tr>\n",
              "    <tr>\n",
              "      <th>388</th>\n",
              "      <td>0.308467</td>\n",
              "      <td>-0.517449</td>\n",
              "      <td>0.297907</td>\n",
              "      <td>0.261202</td>\n",
              "      <td>-0.891379</td>\n",
              "      <td>-0.400867</td>\n",
              "      <td>1.388013</td>\n",
              "      <td>-0.351447</td>\n",
              "      <td>-0.565664</td>\n",
              "      <td>-1.477061</td>\n",
              "      <td>[Element Hf, Element Ti, Element Cu]</td>\n",
              "    </tr>\n",
              "  </tbody>\n",
              "</table>\n",
              "<p>389 rows × 11 columns</p>\n",
              "</div>"
            ],
            "text/plain": [
              "     HeatFusion_composition_average  ...                                             groups\n",
              "0                          0.062372  ...  [Element Zr, Element Ti, Element Be, Element C...\n",
              "1                          0.083469  ...  [Element Zr, Element Ti, Element Be, Element C...\n",
              "2                          0.068809  ...  [Element Zr, Element Ti, Element Be, Element C...\n",
              "3                          0.267366  ...  [Element Zr, Element Be, Element Al, Element C...\n",
              "4                          0.203736  ...  [Element Zr, Element Be, Element Al, Element C...\n",
              "..                              ...  ...                                                ...\n",
              "384                        0.299513  ...               [Element Zr, Element Al, Element Cu]\n",
              "385                        1.974500  ...                [Element Si, Element Ni, Element B]\n",
              "386                        0.549614  ...   [Element Ce, Element Al, Element Si, Element Ni]\n",
              "387                        0.610257  ...   [Element Ce, Element Al, Element Si, Element Ni]\n",
              "388                        0.308467  ...               [Element Hf, Element Ti, Element Cu]\n",
              "\n",
              "[389 rows x 11 columns]"
            ]
          },
          "execution_count": 16,
          "metadata": {},
          "output_type": "execute_result"
        }
      ],
      "source": [
        "#X is ready to be saved now\n",
        "X.to_csv('DS1-MASTML-Features.csv')"
      ]
    },
    {
      "cell_type": "code",
      "execution_count": null,
      "metadata": {},
      "outputs": [],
      "source": [
        "learningcurve = LearningCurve()\n",
        "learningcurve.evaluate(model=model,\n",
        "                        X=X,\n",
        "                        y=y,\n",
        "                        savepath=savepath,\n",
        "                        selector=selector,\n",
        "                        make_new_dir=True)\n",
        "Xreduced = copy(X)"
      ]
    }
  ],
  "metadata": {
    "colab": {
      "name": "Untitled6.ipynb",
      "provenance": []
    },
    "interpreter": {
      "hash": "aee8b7b246df8f9039afb4144a1f6fd8d2ca17a180786b69acc140d282b71a49"
    },
    "kernelspec": {
      "display_name": "Python 3.10.4 64-bit",
      "language": "python",
      "name": "python3"
    },
    "language_info": {
      "codemirror_mode": {
        "name": "ipython",
        "version": 3
      },
      "file_extension": ".py",
      "mimetype": "text/x-python",
      "name": "python",
      "nbconvert_exporter": "python",
      "pygments_lexer": "ipython3",
      "version": "3.11.2"
    }
  },
  "nbformat": 4,
  "nbformat_minor": 0
}
